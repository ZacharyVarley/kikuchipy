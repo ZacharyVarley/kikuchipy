{
 "cells": [
  {
   "cell_type": "markdown",
   "metadata": {
    "nbsphinx": "hidden"
   },
   "source": [
    "This notebook is part of the `kikuchipy` documentation https://kikuchipy.org.\n",
    "Links to the documentation won't work from the notebook."
   ]
  },
  {
   "cell_type": "markdown",
   "metadata": {},
   "source": [
    "# Pattern matching\n",
    "\n",
    "Crystal orientations can be determined from experimental EBSD patterns by matching them to simulated patterns of known phases and orientations, see e.g. <cite data-cite=\"chen2015dictionary\">Chen et al. (2015)</cite>, <cite data-cite=\"nolze2016pattern\">Nolze et al. (2016)</cite>, <cite data-cite=\"foden2019indexing\">Foden et al. (2019)</cite>.\n",
    "\n",
    "In this tutorial, we will perform *dictionary indexing* (DI) using a small Ni EBSD data set and a dynamically simulated Ni master pattern from EMsoft, both of low resolution and found in the [kikuchipy.data](../reference/generated/kikuchipy.data.rst) module.\n",
    "The pattern dictionary is generated from a uniform grid of orientations with a fixed projection center (PC) followng <cite data-cite=\"singh2016orientation\">Singh and De Graef (2016)</cite>.\n",
    "The true orientation is likely to fall in between grid points, which means there is always a lower angular accuracy associated with DI.\n",
    "We can improve upon each solution by letting the orientation deviate from the grid points.\n",
    "We do this by maximizing the similarity between experimental and simulated patterns using numerical optimization algorithms.\n",
    "This is here called *orientation refinement*.\n",
    "We could instead keep the orientations fixed and let the PC parameters deviate from their fixed values used in the dictionary, here called *projection center refinement*.\n",
    "Finally, we can also refine both at the same time, here called *orientation and projection center refinement*.\n",
    "The need for orientation or orientation and PC refinement is discussed by e.g. <cite data-cite=\"singh2017application\">Singh et al. (2017)</cite>, <cite data-cite=\"winkelmann2020refined\">Winkelmann et al. (2020)</cite>, and <cite data-cite=\"pang2020global\">Pang et al. (2020)</cite>.\n",
    "\n",
    "The term *pattern matching* is here used for the combined approach of DI followed by refinement.\n",
    "\n",
    "Before we can generate a dictionary of simulated patterns, we need a master pattern containing all possible scattering vectors for a candidate phase.\n",
    "This can be simulated using EMsoft (<cite data-cite=\"callahan2013dynamical\">Callahan and De Graef (2013)</cite> and <cite data-cite=\"jackson2014h5ebsd\">Jackson et al. (2014)</cite>) and then read into kikuchipy.\n",
    "\n",
    "First, we import libraries"
   ]
  },
  {
   "cell_type": "code",
   "execution_count": 1,
   "metadata": {
    "ExecuteTime": {
     "start_time": "2023-05-02T11:04:08.243684Z",
     "end_time": "2023-05-02T11:04:09.098791Z"
    }
   },
   "outputs": [],
   "source": [
    "# Exchange inline for notebook or qt5 (from pyqt) for interactive plotting\n",
    "%matplotlib inline\n",
    "\n",
    "import tempfile\n",
    "\n",
    "import matplotlib.pyplot as plt\n",
    "import numpy as np\n",
    "\n",
    "import hyperspy.api as hs\n",
    "import kikuchipy as kp\n",
    "from orix import sampling, plot, io\n",
    "from orix.vector import Vector3d\n",
    "\n",
    "\n",
    "plt.rcParams.update({\"figure.facecolor\": \"w\", \"font.size\": 15})"
   ]
  },
  {
   "cell_type": "markdown",
   "metadata": {},
   "source": [
    "Load the small experimental nickel test data"
   ]
  },
  {
   "cell_type": "code",
   "execution_count": 2,
   "metadata": {
    "tags": [
     "nbval-ignore-output"
    ],
    "ExecuteTime": {
     "start_time": "2023-05-02T11:04:09.100123Z",
     "end_time": "2023-05-02T11:04:16.087858Z"
    }
   },
   "outputs": [
    {
     "name": "stdout",
     "output_type": "stream",
     "text": [
      "[########################################] | 100% Completed | 101.00 ms\n",
      "[########################################] | 100% Completed | 301.89 ms\n",
      "Dictionary size:  100347\n",
      "[########################################] | 100% Completed | 1.72 ss\n"
     ]
    }
   ],
   "source": [
    "# Use kp.load(\"data.h5\") to load your own data\n",
    "s = kp.data.nickel_ebsd_large(allow_download=True)  # External download\n",
    "s.remove_static_background()\n",
    "s.remove_dynamic_background()\n",
    "# load master pattern\n",
    "energy = 20\n",
    "mp = kp.data.nickel_ebsd_master_pattern_small(\n",
    "    projection=\"lambert\", energy=energy\n",
    ")\n",
    "ni = mp.phase\n",
    "rot = sampling.get_sample_fundamental(\n",
    "    method=\"cubochoric\", resolution=2.0, point_group=ni.point_group\n",
    ")\n",
    "print(\"Dictionary size: \", rot.shape[0])\n",
    "det = kp.detectors.EBSDDetector(\n",
    "    shape=s.axes_manager.signal_shape[::-1],\n",
    "    pc=[0.4198, 0.2136, 0.5015],\n",
    "    sample_tilt=70,\n",
    ")\n",
    "sim = mp.get_patterns(\n",
    "    rotations=rot,\n",
    "    detector=det,\n",
    "    energy=energy,\n",
    "    dtype_out=np.float32,\n",
    "    compute=True,\n",
    ")\n",
    "signal_mask = ~kp.filters.Window(\"circular\", det.shape).astype(bool)\n",
    "p = s.inav[0, 0].data"
   ]
  },
  {
   "cell_type": "markdown",
   "metadata": {},
   "source": [
    "Finally, let's use the [dictionary_indexing()](../reference/generated/kikuchipy.signals.EBSD.dictionary_indexing.rst) method to match the simulated patterns to our experimental patterns, using the [zero-mean normalized cross correlation (NCC)](../reference/generated/kikuchipy.indexing.NormalizedCrossCorrelationMetric.rst) coefficient $r$ <cite data-cite=\"gonzalez2017digital\">Gonzalez & Woods (2017)</cite>, which is the default similarity metric.\n",
    "Let's keep the 20 best matching orientations.\n",
    "A number of 4125 * 30443 comparisons is quite small, which we can do in memory all at once.\n",
    "However, in cases where the number of comparisons are too big for our memory to handle, we should iterate over the dictionary of simulated patterns by passing the number of patterns per iteration.\n",
    "To demonstrate this, we do at least 10 iterations here.\n",
    "The results are returned as a [orix.crystal_map.CrystalMap](https://orix.readthedocs.io/en/stable/reference/generated/orix.crystal_map.CrystalMap.html)."
   ]
  },
  {
   "cell_type": "code",
   "execution_count": 12,
   "metadata": {
    "ExecuteTime": {
     "start_time": "2023-05-02T11:07:18.935126Z",
     "end_time": "2023-05-02T11:07:23.179823Z"
    }
   },
   "outputs": [
    {
     "name": "stderr",
     "output_type": "stream",
     "text": [
      "[INFO    ] 2023-05-02 11:07:20 [pyhnsw.py] [__init__:40]opt: {\n",
      "  \"max_m\": 16,\n",
      "  \"max_m0\": 32,\n",
      "  \"ef_construction\": 1000,\n",
      "  \"level_mult\": 0.36067376022224085,\n",
      "  \"dist_type\": \"dot\",\n",
      "  \"seed\": 777,\n",
      "  \"c_log_level\": 2,\n",
      "  \"py_log_level\": 2,\n",
      "  \"save_remains\": false,\n",
      "  \"hyper_threads\": 10.0,\n",
      "  \"block_dim\": 32,\n",
      "  \"visited_table_size\": 0,\n",
      "  \"visited_list_size\": 8192,\n",
      "  \"nrz\": false,\n",
      "  \"reverse_cand\": false,\n",
      "  \"heuristic_coef\": 0.25\n",
      "}\n",
      "2023-05-02 11:07:20,114 - cuhnsw - INFO - opt: {\n",
      "  \"max_m\": 16,\n",
      "  \"max_m0\": 32,\n",
      "  \"ef_construction\": 1000,\n",
      "  \"level_mult\": 0.36067376022224085,\n",
      "  \"dist_type\": \"dot\",\n",
      "  \"seed\": 777,\n",
      "  \"c_log_level\": 2,\n",
      "  \"py_log_level\": 2,\n",
      "  \"save_remains\": false,\n",
      "  \"hyper_threads\": 10.0,\n",
      "  \"block_dim\": 32,\n",
      "  \"visited_table_size\": 0,\n",
      "  \"visited_list_size\": 8192,\n",
      "  \"nrz\": false,\n",
      "  \"reverse_cand\": false,\n",
      "  \"heuristic_coef\": 0.25\n",
      "}\n"
     ]
    },
    {
     "name": "stdout",
     "output_type": "stream",
     "text": [
      "[info    ] 2023-05-02 11:07:20 [cuhnsw_base.cu:58] cuda device info, major: 8, minor: 6, multi processors: 38, cores: 4864\n"
     ]
    },
    {
     "name": "stderr",
     "output_type": "stream",
     "text": [
      "100%|██████████| 1/1 [00:01<00:00,  1.86s/it]\n"
     ]
    },
    {
     "name": "stdout",
     "output_type": "stream",
     "text": [
      "  Graph build (or load) time: 1.67779 s,   Indexing speed: 2218.42339 patterns/s, \n"
     ]
    },
    {
     "data": {
      "text/plain": "Phase   Orientations  Name  Space group  Point group  Proper point group     Color\n    0  4125 (100.0%)    ni        Fm-3m         m-3m                 432  tab:blue\nProperties: scores, simulation_indices\nScan unit: um"
     },
     "execution_count": 12,
     "metadata": {},
     "output_type": "execute_result"
    }
   ],
   "source": [
    "from kikuchipy.indexing.di_indexers import CUHNSWlibIndexer\n",
    "indexer = CUHNSWlibIndexer(dtype=np.float32,\n",
    "                           ef_construction=1000,\n",
    "                           ef_search=100,\n",
    "                           load_filename=\"/home/zv/Downloads/index_1000\",\n",
    "                           )\n",
    "xmap = s.custom_di_indexing(\n",
    "    dictionary=sim,\n",
    "    indexer=indexer,\n",
    "    keep_n=1,\n",
    "    n_per_iteration = 0,\n",
    "    navigation_mask= None,\n",
    "    signal_mask = signal_mask\n",
    ")\n",
    "xmap"
   ]
  },
  {
   "cell_type": "markdown",
   "metadata": {},
   "source": [
    "The results can be exported to an HDF5 file re-readable by orix, or an .ang file readable by MTEX and some commercial packages"
   ]
  },
  {
   "cell_type": "code",
   "execution_count": 13,
   "metadata": {
    "ExecuteTime": {
     "start_time": "2023-05-02T11:07:24.440075Z",
     "end_time": "2023-05-02T11:07:24.469626Z"
    }
   },
   "outputs": [],
   "source": [
    "temp_dir = tempfile.mkdtemp() + \"/\"\n",
    "io.save(temp_dir + \"ni.h5\", xmap)\n",
    "io.save(temp_dir + \"ni.ang\", xmap)"
   ]
  },
  {
   "cell_type": "markdown",
   "metadata": {},
   "source": [
    "### Validate indexing results\n",
    "\n",
    "With the [orix library](https://orix.readthedocs.io) we can plot inverse pole figures (IPFs), color orientations to produce orientation maps (also called IPF maps), and more.\n",
    "This is useful to quickly validate our results before processing them further.\n",
    "If we want to analyze the results in terms of reconstructed grains, textures from orientation density functions, or similar, we have to use other software, like MTEX.\n",
    "\n",
    "Let's generate an IPF color key and plot it"
   ]
  },
  {
   "cell_type": "code",
   "execution_count": 14,
   "metadata": {
    "tags": [],
    "ExecuteTime": {
     "start_time": "2023-05-02T11:07:25.158908Z",
     "end_time": "2023-05-02T11:07:25.380924Z"
    }
   },
   "outputs": [
    {
     "data": {
      "text/plain": "<Figure size 1500x500 with 3 Axes>",
      "image/png": "[encoded data removed]"
     },
     "metadata": {},
     "output_type": "display_data"
    }
   ],
   "source": [
    "pgm3m = ni.point_group\n",
    "ckey = plot.IPFColorKeyTSL(pgm3m, direction=Vector3d.xvector())\n",
    "ori = xmap.orientations\n",
    "directions = Vector3d(((1, 0, 0), (0, 1, 0), (0, 0, 1)))\n",
    "\n",
    "fig, axes = plt.subplots(figsize=(15, 5), ncols=3)\n",
    "for ax, v, title in zip(axes, directions, (\"X\", \"Y\", \"Z\")):\n",
    "    ckey.direction = v\n",
    "    rgb = ckey.orientation2color(ori).reshape(xmap.shape + (3,))\n",
    "    ax.imshow(rgb)\n",
    "    ax.axis(\"off\")\n",
    "    ax.set_title(f\"IPF-{title}\")\n",
    "fig.subplots_adjust(wspace=0.05)"
   ]
  },
  {
   "cell_type": "code",
   "execution_count": 6,
   "metadata": {
    "nbsphinx": "hidden",
    "tags": [],
    "ExecuteTime": {
     "start_time": "2023-05-02T10:29:35.027369Z",
     "end_time": "2023-05-02T10:29:35.071835Z"
    }
   },
   "outputs": [],
   "source": [
    "# Remove files written to disk in this tutorial\n",
    "import os\n",
    "\n",
    "os.remove(temp_dir + \"ni.h5\")\n",
    "os.remove(temp_dir + \"ni.ang\")\n",
    "os.rmdir(temp_dir)"
   ]
  },
  {
   "cell_type": "code",
   "execution_count": null,
   "outputs": [],
   "source": [],
   "metadata": {
    "collapsed": false
   }
  }
 ],
 "metadata": {
  "kernelspec": {
   "display_name": "Python 3 (ipykernel)",
   "language": "python",
   "name": "python3"
  },
  "language_info": {
   "codemirror_mode": {
    "name": "ipython",
    "version": 3
   },
   "file_extension": ".py",
   "mimetype": "text/x-python",
   "name": "python",
   "nbconvert_exporter": "python",
   "pygments_lexer": "ipython3",
   "version": "3.10.10"
  }
 },
 "nbformat": 4,
 "nbformat_minor": 4
}
